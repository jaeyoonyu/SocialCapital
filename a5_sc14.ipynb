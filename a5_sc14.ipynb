{
 "cells": [
  {
   "cell_type": "code",
   "execution_count": 2,
   "metadata": {},
   "outputs": [],
   "source": [
    "import pandas as pd\n",
    "pd.options.display.max_columns = 999\n",
    "import pgeocode as geo\n",
    "import numpy as np\n",
    "from sklearn.preprocessing import StandardScaler\n",
    "from sklearn.decomposition import PCA\n",
    "import matplotlib.pyplot as plt"
   ]
  },
  {
   "cell_type": "code",
   "execution_count": 3,
   "metadata": {},
   "outputs": [
    {
     "data": {
      "text/html": [
       "<div>\n",
       "<style scoped>\n",
       "    .dataframe tbody tr th:only-of-type {\n",
       "        vertical-align: middle;\n",
       "    }\n",
       "\n",
       "    .dataframe tbody tr th {\n",
       "        vertical-align: top;\n",
       "    }\n",
       "\n",
       "    .dataframe thead th {\n",
       "        text-align: right;\n",
       "    }\n",
       "</style>\n",
       "<table border=\"1\" class=\"dataframe\">\n",
       "  <thead>\n",
       "    <tr style=\"text-align: right;\">\n",
       "      <th></th>\n",
       "      <th>FIPS</th>\n",
       "      <th>County_Name</th>\n",
       "      <th>Religious2014</th>\n",
       "      <th>Civic2014</th>\n",
       "      <th>Business2014</th>\n",
       "      <th>Political2014</th>\n",
       "      <th>Professional2014</th>\n",
       "      <th>Labor2014</th>\n",
       "      <th>Bowling2014</th>\n",
       "      <th>Recreational2014</th>\n",
       "      <th>Golf2014</th>\n",
       "      <th>Sports2014</th>\n",
       "      <th>pop2014</th>\n",
       "      <th>assn2014</th>\n",
       "      <th>pvote2012</th>\n",
       "      <th>respn2010</th>\n",
       "      <th>nccs2014</th>\n",
       "      <th>sk2014</th>\n",
       "    </tr>\n",
       "  </thead>\n",
       "  <tbody>\n",
       "    <tr>\n",
       "      <th>0</th>\n",
       "      <td>1001</td>\n",
       "      <td>Autauga County, AL</td>\n",
       "      <td>53</td>\n",
       "      <td>7</td>\n",
       "      <td>3</td>\n",
       "      <td>0</td>\n",
       "      <td>1</td>\n",
       "      <td>4</td>\n",
       "      <td>1</td>\n",
       "      <td>5</td>\n",
       "      <td>2</td>\n",
       "      <td>0</td>\n",
       "      <td>55290</td>\n",
       "      <td>1.37457</td>\n",
       "      <td>0.644956</td>\n",
       "      <td>0.78</td>\n",
       "      <td>157</td>\n",
       "      <td>-0.631003</td>\n",
       "    </tr>\n",
       "  </tbody>\n",
       "</table>\n",
       "</div>"
      ],
      "text/plain": [
       "   FIPS         County_Name  Religious2014  Civic2014  Business2014  \\\n",
       "0  1001  Autauga County, AL             53          7             3   \n",
       "\n",
       "   Political2014  Professional2014  Labor2014  Bowling2014  Recreational2014  \\\n",
       "0              0                 1          4            1                 5   \n",
       "\n",
       "   Golf2014  Sports2014  pop2014  assn2014  pvote2012  respn2010  nccs2014  \\\n",
       "0         2           0    55290   1.37457   0.644956       0.78       157   \n",
       "\n",
       "     sk2014  \n",
       "0 -0.631003  "
      ]
     },
     "execution_count": 3,
     "metadata": {},
     "output_type": "execute_result"
    }
   ],
   "source": [
    "sc= pd.read_excel(r'Input\\\\social capital variables spreadsheet.12-8-17.xlsx', sheet_name='Sheet1')\n",
    "sc.head(1)"
   ]
  },
  {
   "cell_type": "code",
   "execution_count": 4,
   "metadata": {},
   "outputs": [],
   "source": [
    "cols_rename= {\n",
    "            'County_Name':'area',\n",
    "            'Recreational2014': 'fit2014',\n",
    "            'Religious2014': 'relig2014',\n",
    "            'Religious2014': 'relig2014',\n",
    "            'Business2014': 'bus2014',\n",
    "            'Political2014': 'pol2014',\n",
    "            'Professional2014': 'prof2014',\n",
    "            'Bowling2014': 'bowl2014',\n",
    "            'Sports2014': 'sport2014'\n",
    "            }"
   ]
  },
  {
   "cell_type": "code",
   "execution_count": 5,
   "metadata": {},
   "outputs": [
    {
     "data": {
      "text/html": [
       "<div>\n",
       "<style scoped>\n",
       "    .dataframe tbody tr th:only-of-type {\n",
       "        vertical-align: middle;\n",
       "    }\n",
       "\n",
       "    .dataframe tbody tr th {\n",
       "        vertical-align: top;\n",
       "    }\n",
       "\n",
       "    .dataframe thead th {\n",
       "        text-align: right;\n",
       "    }\n",
       "</style>\n",
       "<table border=\"1\" class=\"dataframe\">\n",
       "  <thead>\n",
       "    <tr style=\"text-align: right;\">\n",
       "      <th></th>\n",
       "      <th>fips</th>\n",
       "      <th>area</th>\n",
       "      <th>assn</th>\n",
       "      <th>pvote</th>\n",
       "      <th>respn</th>\n",
       "      <th>nccs</th>\n",
       "      <th>sk</th>\n",
       "    </tr>\n",
       "  </thead>\n",
       "  <tbody>\n",
       "    <tr>\n",
       "      <th>0</th>\n",
       "      <td>1001</td>\n",
       "      <td>Autauga, AL</td>\n",
       "      <td>1.374570</td>\n",
       "      <td>0.644956</td>\n",
       "      <td>0.78</td>\n",
       "      <td>2.839573</td>\n",
       "      <td>-0.631003</td>\n",
       "    </tr>\n",
       "    <tr>\n",
       "      <th>1</th>\n",
       "      <td>1003</td>\n",
       "      <td>Baldwin, AL</td>\n",
       "      <td>1.156660</td>\n",
       "      <td>0.674735</td>\n",
       "      <td>0.73</td>\n",
       "      <td>3.595159</td>\n",
       "      <td>-0.555396</td>\n",
       "    </tr>\n",
       "    <tr>\n",
       "      <th>2</th>\n",
       "      <td>1005</td>\n",
       "      <td>Barbour, AL</td>\n",
       "      <td>0.820436</td>\n",
       "      <td>0.665031</td>\n",
       "      <td>0.63</td>\n",
       "      <td>3.430916</td>\n",
       "      <td>-0.891036</td>\n",
       "    </tr>\n",
       "  </tbody>\n",
       "</table>\n",
       "</div>"
      ],
      "text/plain": [
       "   fips         area      assn     pvote  respn      nccs        sk\n",
       "0  1001  Autauga, AL  1.374570  0.644956   0.78  2.839573 -0.631003\n",
       "1  1003  Baldwin, AL  1.156660  0.674735   0.73  3.595159 -0.555396\n",
       "2  1005  Barbour, AL  0.820436  0.665031   0.63  3.430916 -0.891036"
      ]
     },
     "execution_count": 5,
     "metadata": {},
     "output_type": "execute_result"
    }
   ],
   "source": [
    "sc.rename(columns=cols_rename, inplace=True)\n",
    "sc.columns= sc.columns.str.strip().str.lower()\n",
    "sc.columns=sc.columns.str.replace('\\d+','',regex=True).str.strip()\n",
    "sc.loc[:,'area'].replace(regex=True, to_replace=\" County\", value= r\"\", inplace= True)\n",
    "sc['nccs']= sc['nccs'].replace(np.nan, 0) # This is one of the key things that make results: Before this fix: corr= 0.54. After this fix corr= 0.99\n",
    "\n",
    "sc['nccs']= sc['nccs']/(sc['pop']/1000)\n",
    "sc['assn']= (sc['relig'] + sc['civic'] + sc['bus'] + sc['pol'] + sc['prof'] + sc['labor'] + sc['bowl'] + sc['fit'] + sc['golf'] + sc['sport']) / (sc['pop']/1000)\n",
    "\n",
    "sc.drop(columns=['bowl', 'civic', 'fit', 'golf', 'relig', 'sport', 'pol', 'prof', 'bus', 'labor'], inplace=True)\n",
    "sc.drop(columns=['pop'],inplace=True)\n",
    "sc.head(3)"
   ]
  },
  {
   "cell_type": "code",
   "execution_count": 6,
   "metadata": {},
   "outputs": [
    {
     "data": {
      "text/html": [
       "<div>\n",
       "<style scoped>\n",
       "    .dataframe tbody tr th:only-of-type {\n",
       "        vertical-align: middle;\n",
       "    }\n",
       "\n",
       "    .dataframe tbody tr th {\n",
       "        vertical-align: top;\n",
       "    }\n",
       "\n",
       "    .dataframe thead th {\n",
       "        text-align: right;\n",
       "    }\n",
       "</style>\n",
       "<table border=\"1\" class=\"dataframe\">\n",
       "  <thead>\n",
       "    <tr style=\"text-align: right;\">\n",
       "      <th></th>\n",
       "      <th>pc1</th>\n",
       "    </tr>\n",
       "  </thead>\n",
       "  <tbody>\n",
       "    <tr>\n",
       "      <th>0</th>\n",
       "      <td>-0.631075</td>\n",
       "    </tr>\n",
       "    <tr>\n",
       "      <th>1</th>\n",
       "      <td>-0.555699</td>\n",
       "    </tr>\n",
       "  </tbody>\n",
       "</table>\n",
       "</div>"
      ],
      "text/plain": [
       "        pc1\n",
       "0 -0.631075\n",
       "1 -0.555699"
      ]
     },
     "execution_count": 6,
     "metadata": {},
     "output_type": "execute_result"
    }
   ],
   "source": [
    "x = sc.loc[:, ['respn','pvote','assn','nccs']].values\n",
    "# Separating out the target\n",
    "y = sc.loc[:,['fips']].values\n",
    "# Standardizing the features\n",
    "x = StandardScaler().fit_transform(x)\n",
    "\n",
    "pca = PCA(n_components=1)\n",
    "principalComponents = pca.fit_transform(x)\n",
    "pca_df = pd.DataFrame(data = principalComponents\n",
    "             , columns = ['pc1'])\n",
    "pca_df.head(2)"
   ]
  },
  {
   "cell_type": "code",
   "execution_count": 7,
   "metadata": {},
   "outputs": [],
   "source": [
    "sc['pc1']=pca_df[['pc1']]"
   ]
  },
  {
   "cell_type": "code",
   "execution_count": 8,
   "metadata": {},
   "outputs": [
    {
     "data": {
      "text/html": [
       "<div>\n",
       "<style scoped>\n",
       "    .dataframe tbody tr th:only-of-type {\n",
       "        vertical-align: middle;\n",
       "    }\n",
       "\n",
       "    .dataframe tbody tr th {\n",
       "        vertical-align: top;\n",
       "    }\n",
       "\n",
       "    .dataframe thead th {\n",
       "        text-align: right;\n",
       "    }\n",
       "</style>\n",
       "<table border=\"1\" class=\"dataframe\">\n",
       "  <thead>\n",
       "    <tr style=\"text-align: right;\">\n",
       "      <th></th>\n",
       "      <th>fips</th>\n",
       "      <th>area</th>\n",
       "      <th>assn</th>\n",
       "      <th>pvote</th>\n",
       "      <th>respn</th>\n",
       "      <th>nccs</th>\n",
       "      <th>sk</th>\n",
       "      <th>pc1</th>\n",
       "    </tr>\n",
       "  </thead>\n",
       "  <tbody>\n",
       "    <tr>\n",
       "      <th>0</th>\n",
       "      <td>1001</td>\n",
       "      <td>Autauga, AL</td>\n",
       "      <td>1.374570</td>\n",
       "      <td>0.644956</td>\n",
       "      <td>0.78</td>\n",
       "      <td>2.839573</td>\n",
       "      <td>-0.631003</td>\n",
       "      <td>-0.631075</td>\n",
       "    </tr>\n",
       "    <tr>\n",
       "      <th>1</th>\n",
       "      <td>1003</td>\n",
       "      <td>Baldwin, AL</td>\n",
       "      <td>1.156660</td>\n",
       "      <td>0.674735</td>\n",
       "      <td>0.73</td>\n",
       "      <td>3.595159</td>\n",
       "      <td>-0.555396</td>\n",
       "      <td>-0.555699</td>\n",
       "    </tr>\n",
       "    <tr>\n",
       "      <th>2</th>\n",
       "      <td>1005</td>\n",
       "      <td>Barbour, AL</td>\n",
       "      <td>0.820436</td>\n",
       "      <td>0.665031</td>\n",
       "      <td>0.63</td>\n",
       "      <td>3.430916</td>\n",
       "      <td>-0.891036</td>\n",
       "      <td>-0.890722</td>\n",
       "    </tr>\n",
       "    <tr>\n",
       "      <th>3</th>\n",
       "      <td>1007</td>\n",
       "      <td>Bibb, AL</td>\n",
       "      <td>1.020001</td>\n",
       "      <td>0.656838</td>\n",
       "      <td>0.58</td>\n",
       "      <td>2.394785</td>\n",
       "      <td>-0.906582</td>\n",
       "      <td>-0.906795</td>\n",
       "    </tr>\n",
       "    <tr>\n",
       "      <th>4</th>\n",
       "      <td>1009</td>\n",
       "      <td>Blount, AL</td>\n",
       "      <td>0.849839</td>\n",
       "      <td>0.708668</td>\n",
       "      <td>0.80</td>\n",
       "      <td>1.873114</td>\n",
       "      <td>-1.013280</td>\n",
       "      <td>-1.013599</td>\n",
       "    </tr>\n",
       "  </tbody>\n",
       "</table>\n",
       "</div>"
      ],
      "text/plain": [
       "   fips         area      assn     pvote  respn      nccs        sk       pc1\n",
       "0  1001  Autauga, AL  1.374570  0.644956   0.78  2.839573 -0.631003 -0.631075\n",
       "1  1003  Baldwin, AL  1.156660  0.674735   0.73  3.595159 -0.555396 -0.555699\n",
       "2  1005  Barbour, AL  0.820436  0.665031   0.63  3.430916 -0.891036 -0.890722\n",
       "3  1007     Bibb, AL  1.020001  0.656838   0.58  2.394785 -0.906582 -0.906795\n",
       "4  1009   Blount, AL  0.849839  0.708668   0.80  1.873114 -1.013280 -1.013599"
      ]
     },
     "execution_count": 8,
     "metadata": {},
     "output_type": "execute_result"
    }
   ],
   "source": [
    "sc.head()"
   ]
  },
  {
   "cell_type": "code",
   "execution_count": 9,
   "metadata": {},
   "outputs": [
    {
     "data": {
      "text/plain": [
       "0.9999999868272843"
      ]
     },
     "execution_count": 9,
     "metadata": {},
     "output_type": "execute_result"
    }
   ],
   "source": [
    "sc['sk'].corr(sc['pc1'])"
   ]
  },
  {
   "cell_type": "code",
   "execution_count": 10,
   "metadata": {},
   "outputs": [
    {
     "data": {
      "text/plain": [
       "(3141, 8)"
      ]
     },
     "execution_count": 10,
     "metadata": {},
     "output_type": "execute_result"
    }
   ],
   "source": [
    "sc.shape"
   ]
  },
  {
   "cell_type": "code",
   "execution_count": 11,
   "metadata": {},
   "outputs": [],
   "source": [
    "sc['year']=2014\n",
    "sc.to_csv(\"output\\\\sc14.csv\")"
   ]
  }
 ],
 "metadata": {
  "kernelspec": {
   "display_name": "Python 3",
   "language": "python",
   "name": "python3"
  },
  "language_info": {
   "codemirror_mode": {
    "name": "ipython",
    "version": 3
   },
   "file_extension": ".py",
   "mimetype": "text/x-python",
   "name": "python",
   "nbconvert_exporter": "python",
   "pygments_lexer": "ipython3",
   "version": "3.7.4"
  }
 },
 "nbformat": 4,
 "nbformat_minor": 4
}
