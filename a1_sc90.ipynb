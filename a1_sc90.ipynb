{
 "cells": [
  {
   "cell_type": "markdown",
   "metadata": {},
   "source": [
    "### Import libraries"
   ]
  },
  {
   "cell_type": "code",
   "execution_count": 58,
   "metadata": {},
   "outputs": [],
   "source": [
    "import pandas as pd\n",
    "pd.options.display.max_columns = 999\n",
    "import pgeocode as geo\n",
    "import numpy as np\n",
    "from sklearn.preprocessing import StandardScaler\n",
    "from sklearn.decomposition import PCA\n",
    "import matplotlib.pyplot as plt"
   ]
  },
  {
   "cell_type": "markdown",
   "metadata": {},
   "source": [
    "### Import 1990 file"
   ]
  },
  {
   "cell_type": "code",
   "execution_count": 59,
   "metadata": {},
   "outputs": [
    {
     "data": {
      "text/html": [
       "<div>\n",
       "<style scoped>\n",
       "    .dataframe tbody tr th:only-of-type {\n",
       "        vertical-align: middle;\n",
       "    }\n",
       "\n",
       "    .dataframe tbody tr th {\n",
       "        vertical-align: top;\n",
       "    }\n",
       "\n",
       "    .dataframe thead th {\n",
       "        text-align: right;\n",
       "    }\n",
       "</style>\n",
       "<table border=\"1\" class=\"dataframe\">\n",
       "  <thead>\n",
       "    <tr style=\"text-align: right;\">\n",
       "      <th></th>\n",
       "      <th>fips</th>\n",
       "      <th>AREANAME</th>\n",
       "      <th>bowl90</th>\n",
       "      <th>civic90</th>\n",
       "      <th>fit90</th>\n",
       "      <th>golf90</th>\n",
       "      <th>relig90</th>\n",
       "      <th>sport90</th>\n",
       "      <th>memspt90</th>\n",
       "      <th>pol90</th>\n",
       "      <th>prof90</th>\n",
       "      <th>bus90</th>\n",
       "      <th>labor90</th>\n",
       "      <th>memnec90</th>\n",
       "      <th>assn90</th>\n",
       "      <th>respn90</th>\n",
       "      <th>pvote88</th>\n",
       "      <th>nccs90</th>\n",
       "      <th>pop90</th>\n",
       "      <th>ski90pcm</th>\n",
       "      <th>ski90std</th>\n",
       "    </tr>\n",
       "  </thead>\n",
       "  <tbody>\n",
       "    <tr>\n",
       "      <th>0</th>\n",
       "      <td>1001</td>\n",
       "      <td>Autauga, AL</td>\n",
       "      <td>0</td>\n",
       "      <td>7</td>\n",
       "      <td>1</td>\n",
       "      <td>0</td>\n",
       "      <td>21</td>\n",
       "      <td>0</td>\n",
       "      <td>1</td>\n",
       "      <td>0</td>\n",
       "      <td>0</td>\n",
       "      <td>2</td>\n",
       "      <td>5</td>\n",
       "      <td>0</td>\n",
       "      <td>37</td>\n",
       "      <td>65.0</td>\n",
       "      <td>48.337755</td>\n",
       "      <td>5</td>\n",
       "      <td>34222</td>\n",
       "      <td>-0.897834</td>\n",
       "      <td>-0.474257</td>\n",
       "    </tr>\n",
       "  </tbody>\n",
       "</table>\n",
       "</div>"
      ],
      "text/plain": [
       "   fips     AREANAME  bowl90  civic90  fit90  golf90  relig90  sport90  \\\n",
       "0  1001  Autauga, AL       0        7      1       0       21        0   \n",
       "\n",
       "   memspt90  pol90  prof90  bus90  labor90  memnec90  assn90  respn90  \\\n",
       "0         1      0       0      2        5         0      37     65.0   \n",
       "\n",
       "     pvote88  nccs90  pop90  ski90pcm  ski90std  \n",
       "0  48.337755       5  34222 -0.897834 -0.474257  "
      ]
     },
     "execution_count": 59,
     "metadata": {},
     "output_type": "execute_result"
    }
   ],
   "source": [
    "sc= pd.read_excel(r'Input\\\\SocCapVariables.1990.1997.2005.xls', sheet_name='1990')\n",
    "sc=sc[sc.fips!=51780] # pop is not available. 51780 exists only in the oldest file (SocCapVariables.1990.1997.2005)\n",
    "sc.drop(columns=['pvote92'], inplace=True)\n",
    "sc.head(1)"
   ]
  },
  {
   "cell_type": "code",
   "execution_count": 60,
   "metadata": {},
   "outputs": [
    {
     "data": {
      "text/plain": [
       "fips        3110\n",
       "AREANAME    3110\n",
       "bowl90      3110\n",
       "civic90     3110\n",
       "fit90       3110\n",
       "golf90      3110\n",
       "relig90     3110\n",
       "sport90     3110\n",
       "memspt90    3110\n",
       "pol90       3110\n",
       "prof90      3110\n",
       "bus90       3110\n",
       "labor90     3110\n",
       "memnec90    3110\n",
       "assn90      3110\n",
       "respn90     2435\n",
       "pvote88     3110\n",
       "nccs90      3110\n",
       "pop90       3110\n",
       "ski90pcm    3110\n",
       "ski90std    3110\n",
       "dtype: int64"
      ]
     },
     "execution_count": 60,
     "metadata": {},
     "output_type": "execute_result"
    }
   ],
   "source": [
    "sc.count()"
   ]
  },
  {
   "cell_type": "markdown",
   "metadata": {},
   "source": [
    "- Many missing obs for respn90.\n",
    "- All variables with 90 suffix.\n",
    "- Two pvote: pvote88 and pvote92. Following studies, pvote88 is used."
   ]
  },
  {
   "cell_type": "markdown",
   "metadata": {},
   "source": [
    "### Rename columns"
   ]
  },
  {
   "cell_type": "code",
   "execution_count": 61,
   "metadata": {},
   "outputs": [],
   "source": [
    "cols_rename= {\n",
    "            'AREANAME':'area',\n",
    "            'ski90pcm':'sk_u',   \n",
    "            'ski90std': 'sk',\n",
    "            }"
   ]
  },
  {
   "cell_type": "code",
   "execution_count": 62,
   "metadata": {},
   "outputs": [
    {
     "data": {
      "text/html": [
       "<div>\n",
       "<style scoped>\n",
       "    .dataframe tbody tr th:only-of-type {\n",
       "        vertical-align: middle;\n",
       "    }\n",
       "\n",
       "    .dataframe tbody tr th {\n",
       "        vertical-align: top;\n",
       "    }\n",
       "\n",
       "    .dataframe thead th {\n",
       "        text-align: right;\n",
       "    }\n",
       "</style>\n",
       "<table border=\"1\" class=\"dataframe\">\n",
       "  <thead>\n",
       "    <tr style=\"text-align: right;\">\n",
       "      <th></th>\n",
       "      <th>fips</th>\n",
       "      <th>area</th>\n",
       "      <th>bowl</th>\n",
       "      <th>civic</th>\n",
       "      <th>fit</th>\n",
       "      <th>golf</th>\n",
       "      <th>relig</th>\n",
       "      <th>sport</th>\n",
       "      <th>memspt</th>\n",
       "      <th>pol</th>\n",
       "      <th>prof</th>\n",
       "      <th>bus</th>\n",
       "      <th>labor</th>\n",
       "      <th>memnec</th>\n",
       "      <th>assn</th>\n",
       "      <th>respn</th>\n",
       "      <th>pvote</th>\n",
       "      <th>nccs</th>\n",
       "      <th>pop</th>\n",
       "      <th>sk_u</th>\n",
       "      <th>sk</th>\n",
       "    </tr>\n",
       "  </thead>\n",
       "  <tbody>\n",
       "    <tr>\n",
       "      <th>0</th>\n",
       "      <td>1001</td>\n",
       "      <td>Autauga, AL</td>\n",
       "      <td>0</td>\n",
       "      <td>7</td>\n",
       "      <td>1</td>\n",
       "      <td>0</td>\n",
       "      <td>21</td>\n",
       "      <td>0</td>\n",
       "      <td>1</td>\n",
       "      <td>0</td>\n",
       "      <td>0</td>\n",
       "      <td>2</td>\n",
       "      <td>5</td>\n",
       "      <td>0</td>\n",
       "      <td>37</td>\n",
       "      <td>65.0</td>\n",
       "      <td>48.337755</td>\n",
       "      <td>5</td>\n",
       "      <td>34222</td>\n",
       "      <td>-0.897834</td>\n",
       "      <td>-0.474257</td>\n",
       "    </tr>\n",
       "  </tbody>\n",
       "</table>\n",
       "</div>"
      ],
      "text/plain": [
       "   fips         area  bowl  civic  fit  golf  relig  sport  memspt  pol  prof  \\\n",
       "0  1001  Autauga, AL     0      7    1     0     21      0       1    0     0   \n",
       "\n",
       "   bus  labor  memnec  assn  respn      pvote  nccs    pop      sk_u        sk  \n",
       "0    2      5       0    37   65.0  48.337755     5  34222 -0.897834 -0.474257  "
      ]
     },
     "execution_count": 62,
     "metadata": {},
     "output_type": "execute_result"
    }
   ],
   "source": [
    "sc.rename(columns=cols_rename, inplace=True)\n",
    "sc.columns= sc.columns.str.strip().str.lower()\n",
    "sc.columns=sc.columns.str.replace('\\d+','',regex=True).str.strip()\n",
    "sc.head(1)"
   ]
  },
  {
   "cell_type": "markdown",
   "metadata": {},
   "source": [
    "### Calculate nccs based on 1997, 2005, 2009 data\n",
    "##### Import files"
   ]
  },
  {
   "cell_type": "code",
   "execution_count": 63,
   "metadata": {},
   "outputs": [],
   "source": [
    "sc.drop(columns='nccs', inplace=True)"
   ]
  },
  {
   "cell_type": "code",
   "execution_count": 64,
   "metadata": {},
   "outputs": [
    {
     "name": "stdout",
     "output_type": "stream",
     "text": [
      "nccs97    353.943226\n",
      "dtype: float64\n",
      "nccs05    443.735114\n",
      "dtype: float64\n",
      "nccs09    494.433677\n",
      "dtype: float64\n",
      "**************************************************\n"
     ]
    }
   ],
   "source": [
    "# Old files\n",
    "# sc97= pd.read_excel(r'Input\\\\SocCapVariables.1990.1997.2005.xls', sheet_name='1997')[['fips','nccs97']]\n",
    "# sc05= pd.read_excel(r'Input\\\\SocCapVariables.1990.1997.2005.xls', sheet_name='2005')[['fips','nccs05']]\n",
    "# sc09= pd.read_excel(r'Input\\\\social_capital.97-05-09.updated8.28.17.xlsx', sheet_name='2009')[['fips','nccs09']]\n",
    "\n",
    "# New files / consistent with Hasan et al. (2017)\n",
    "sc97= pd.read_excel(r'Input\\\\social_capital.97-05-09.updated8.28.17.xlsx', sheet_name='1997')[['fips','nccs97','pop97']]\n",
    "sc05= pd.read_excel(r'Input\\\\social_capital.97-05-09.updated8.28.17.xlsx', sheet_name='2005')[['fips','nccs05','pop05']]\n",
    "sc09= pd.read_excel(r'Input\\\\social_capital.97-05-09.updated8.28.17.xlsx', sheet_name='2009')[['fips','nccs09','pop09']]\n",
    "\n",
    "print(sc97[['nccs97']].mean())\n",
    "print(sc05[['nccs05']].mean())\n",
    "print(sc09[['nccs09']].mean())\n",
    "print(\"*\"*50)"
   ]
  },
  {
   "cell_type": "markdown",
   "metadata": {},
   "source": [
    "- The mean values consistent with Appendix (p.28) in Hasan et al. (2017)"
   ]
  },
  {
   "cell_type": "markdown",
   "metadata": {},
   "source": [
    "##### Check missing obs"
   ]
  },
  {
   "cell_type": "code",
   "execution_count": 65,
   "metadata": {},
   "outputs": [
    {
     "name": "stdout",
     "output_type": "stream",
     "text": [
      "nccs97    3100\n",
      "pop97     3108\n",
      "dtype: int64\n",
      "nccs05    3107\n",
      "pop05     3108\n",
      "dtype: int64\n",
      "nccs09    3106\n",
      "pop09     3108\n",
      "dtype: int64\n"
     ]
    }
   ],
   "source": [
    "sc97['nccs97']= sc97['nccs97'] / (sc97['pop97'] / 10000)\n",
    "sc05['nccs05']= sc05['nccs05'] / (sc05['pop05'] / 10000)\n",
    "sc09['nccs09']= sc09['nccs09'] / (sc09['pop09'] / 10000)\n",
    "print(sc97[['nccs97', 'pop97']].count())\n",
    "print(sc05[['nccs05', 'pop05']].count())\n",
    "print(sc09[['nccs09', 'pop09']].count())"
   ]
  },
  {
   "cell_type": "markdown",
   "metadata": {},
   "source": [
    "- Some missing obs from sc97, sc05 and sc09"
   ]
  },
  {
   "cell_type": "markdown",
   "metadata": {},
   "source": [
    "##### Replace missing values with zero"
   ]
  },
  {
   "cell_type": "code",
   "execution_count": 66,
   "metadata": {},
   "outputs": [
    {
     "name": "stdout",
     "output_type": "stream",
     "text": [
      "nccs97    3108\n",
      "dtype: int64\n",
      "nccs05    3108\n",
      "dtype: int64\n",
      "nccs09    3108\n",
      "dtype: int64\n"
     ]
    }
   ],
   "source": [
    "sc97['nccs97']= sc97['nccs97'].replace(np.nan, 0) # many missing\n",
    "sc05['nccs05']= sc05['nccs05'].replace(np.nan, 0) # many missing\n",
    "sc09['nccs09']= sc09['nccs09'].replace(np.nan, 0) # many missing\n",
    "print(sc97[['nccs97']].count())\n",
    "print(sc05[['nccs05']].count())\n",
    "print(sc09[['nccs09']].count())"
   ]
  },
  {
   "cell_type": "code",
   "execution_count": 67,
   "metadata": {},
   "outputs": [
    {
     "data": {
      "text/html": [
       "<div>\n",
       "<style scoped>\n",
       "    .dataframe tbody tr th:only-of-type {\n",
       "        vertical-align: middle;\n",
       "    }\n",
       "\n",
       "    .dataframe tbody tr th {\n",
       "        vertical-align: top;\n",
       "    }\n",
       "\n",
       "    .dataframe thead th {\n",
       "        text-align: right;\n",
       "    }\n",
       "</style>\n",
       "<table border=\"1\" class=\"dataframe\">\n",
       "  <thead>\n",
       "    <tr style=\"text-align: right;\">\n",
       "      <th></th>\n",
       "      <th>fips</th>\n",
       "      <th>nccs97</th>\n",
       "      <th>pop97</th>\n",
       "    </tr>\n",
       "  </thead>\n",
       "  <tbody>\n",
       "    <tr>\n",
       "      <th>0</th>\n",
       "      <td>1001</td>\n",
       "      <td>22.794510</td>\n",
       "      <td>41238</td>\n",
       "    </tr>\n",
       "    <tr>\n",
       "      <th>1</th>\n",
       "      <td>1003</td>\n",
       "      <td>31.037768</td>\n",
       "      <td>130164</td>\n",
       "    </tr>\n",
       "  </tbody>\n",
       "</table>\n",
       "</div>"
      ],
      "text/plain": [
       "   fips     nccs97   pop97\n",
       "0  1001  22.794510   41238\n",
       "1  1003  31.037768  130164"
      ]
     },
     "execution_count": 67,
     "metadata": {},
     "output_type": "execute_result"
    }
   ],
   "source": [
    "sc97.head(2)"
   ]
  },
  {
   "cell_type": "code",
   "execution_count": 68,
   "metadata": {},
   "outputs": [
    {
     "data": {
      "text/html": [
       "<div>\n",
       "<style scoped>\n",
       "    .dataframe tbody tr th:only-of-type {\n",
       "        vertical-align: middle;\n",
       "    }\n",
       "\n",
       "    .dataframe tbody tr th {\n",
       "        vertical-align: top;\n",
       "    }\n",
       "\n",
       "    .dataframe thead th {\n",
       "        text-align: right;\n",
       "    }\n",
       "</style>\n",
       "<table border=\"1\" class=\"dataframe\">\n",
       "  <thead>\n",
       "    <tr style=\"text-align: right;\">\n",
       "      <th></th>\n",
       "      <th>fips</th>\n",
       "      <th>nccs05</th>\n",
       "      <th>pop05</th>\n",
       "    </tr>\n",
       "  </thead>\n",
       "  <tbody>\n",
       "    <tr>\n",
       "      <th>0</th>\n",
       "      <td>1001</td>\n",
       "      <td>28.786537</td>\n",
       "      <td>49676</td>\n",
       "    </tr>\n",
       "    <tr>\n",
       "      <th>1</th>\n",
       "      <td>1003</td>\n",
       "      <td>36.255341</td>\n",
       "      <td>162183</td>\n",
       "    </tr>\n",
       "  </tbody>\n",
       "</table>\n",
       "</div>"
      ],
      "text/plain": [
       "   fips     nccs05   pop05\n",
       "0  1001  28.786537   49676\n",
       "1  1003  36.255341  162183"
      ]
     },
     "execution_count": 68,
     "metadata": {},
     "output_type": "execute_result"
    }
   ],
   "source": [
    "sc05.head(2)"
   ]
  },
  {
   "cell_type": "code",
   "execution_count": 69,
   "metadata": {},
   "outputs": [
    {
     "data": {
      "text/html": [
       "<div>\n",
       "<style scoped>\n",
       "    .dataframe tbody tr th:only-of-type {\n",
       "        vertical-align: middle;\n",
       "    }\n",
       "\n",
       "    .dataframe tbody tr th {\n",
       "        vertical-align: top;\n",
       "    }\n",
       "\n",
       "    .dataframe thead th {\n",
       "        text-align: right;\n",
       "    }\n",
       "</style>\n",
       "<table border=\"1\" class=\"dataframe\">\n",
       "  <thead>\n",
       "    <tr style=\"text-align: right;\">\n",
       "      <th></th>\n",
       "      <th>fips</th>\n",
       "      <th>nccs09</th>\n",
       "      <th>pop09</th>\n",
       "    </tr>\n",
       "  </thead>\n",
       "  <tbody>\n",
       "    <tr>\n",
       "      <th>0</th>\n",
       "      <td>1001</td>\n",
       "      <td>33.619655</td>\n",
       "      <td>54135</td>\n",
       "    </tr>\n",
       "    <tr>\n",
       "      <th>1</th>\n",
       "      <td>1003</td>\n",
       "      <td>41.080008</td>\n",
       "      <td>179406</td>\n",
       "    </tr>\n",
       "  </tbody>\n",
       "</table>\n",
       "</div>"
      ],
      "text/plain": [
       "   fips     nccs09   pop09\n",
       "0  1001  33.619655   54135\n",
       "1  1003  41.080008  179406"
      ]
     },
     "execution_count": 69,
     "metadata": {},
     "output_type": "execute_result"
    }
   ],
   "source": [
    "sc09.head(2)"
   ]
  },
  {
   "cell_type": "markdown",
   "metadata": {},
   "source": [
    "##### Calculate the nccs growth rate and estimate nccs 1990"
   ]
  },
  {
   "cell_type": "code",
   "execution_count": 70,
   "metadata": {},
   "outputs": [
    {
     "name": "stdout",
     "output_type": "stream",
     "text": [
      "nccs    3107\n",
      "dtype: int64\n"
     ]
    }
   ],
   "source": [
    "nccs97= sc97[['fips', 'nccs97']]\n",
    "nccs05= sc05[['fips', 'nccs05']]\n",
    "nccs09= sc09[['fips', 'nccs09']]\n",
    "\n",
    "nccs= pd.merge(nccs97, nccs05, on='fips')\n",
    "nccs= pd.merge(nccs, nccs09, on='fips')\n",
    "\n",
    "nccs['nccs_growth1']=1+(nccs['nccs05']-nccs['nccs97']) / nccs['nccs97']\n",
    "nccs['nccs_growth2']=1+(nccs['nccs09']-nccs['nccs05']) / nccs['nccs05']\n",
    "nccs['nccs_growth_avg']= (nccs['nccs_growth1']+nccs['nccs_growth2'])/2\n",
    "nccs['nccs']= (nccs['nccs97']/nccs['nccs_growth_avg']).round(4) # nccs90 estimated\n",
    "nccs.head(2)\n",
    "\n",
    "sc=pd.merge(sc, nccs[['fips','nccs']], on=\"fips\", how= \"left\")\n",
    "print(sc[['nccs']].count())"
   ]
  },
  {
   "cell_type": "code",
   "execution_count": 71,
   "metadata": {},
   "outputs": [
    {
     "data": {
      "text/html": [
       "<div>\n",
       "<style scoped>\n",
       "    .dataframe tbody tr th:only-of-type {\n",
       "        vertical-align: middle;\n",
       "    }\n",
       "\n",
       "    .dataframe tbody tr th {\n",
       "        vertical-align: top;\n",
       "    }\n",
       "\n",
       "    .dataframe thead th {\n",
       "        text-align: right;\n",
       "    }\n",
       "</style>\n",
       "<table border=\"1\" class=\"dataframe\">\n",
       "  <thead>\n",
       "    <tr style=\"text-align: right;\">\n",
       "      <th></th>\n",
       "      <th>fips</th>\n",
       "      <th>area</th>\n",
       "      <th>bowl</th>\n",
       "      <th>civic</th>\n",
       "      <th>fit</th>\n",
       "      <th>golf</th>\n",
       "      <th>relig</th>\n",
       "      <th>sport</th>\n",
       "      <th>memspt</th>\n",
       "      <th>pol</th>\n",
       "      <th>prof</th>\n",
       "      <th>bus</th>\n",
       "      <th>labor</th>\n",
       "      <th>memnec</th>\n",
       "      <th>assn</th>\n",
       "      <th>respn</th>\n",
       "      <th>pvote</th>\n",
       "      <th>pop</th>\n",
       "      <th>sk_u</th>\n",
       "      <th>sk</th>\n",
       "      <th>nccs</th>\n",
       "    </tr>\n",
       "  </thead>\n",
       "  <tbody>\n",
       "    <tr>\n",
       "      <th>0</th>\n",
       "      <td>1001</td>\n",
       "      <td>Autauga, AL</td>\n",
       "      <td>0</td>\n",
       "      <td>7</td>\n",
       "      <td>1</td>\n",
       "      <td>0</td>\n",
       "      <td>21</td>\n",
       "      <td>0</td>\n",
       "      <td>1</td>\n",
       "      <td>0</td>\n",
       "      <td>0</td>\n",
       "      <td>2</td>\n",
       "      <td>5</td>\n",
       "      <td>0</td>\n",
       "      <td>37</td>\n",
       "      <td>65.0</td>\n",
       "      <td>48.337755</td>\n",
       "      <td>34222</td>\n",
       "      <td>-0.897834</td>\n",
       "      <td>-0.474257</td>\n",
       "      <td>18.7550</td>\n",
       "    </tr>\n",
       "    <tr>\n",
       "      <th>1</th>\n",
       "      <td>1003</td>\n",
       "      <td>Baldwin, AL</td>\n",
       "      <td>2</td>\n",
       "      <td>29</td>\n",
       "      <td>4</td>\n",
       "      <td>1</td>\n",
       "      <td>80</td>\n",
       "      <td>0</td>\n",
       "      <td>9</td>\n",
       "      <td>1</td>\n",
       "      <td>0</td>\n",
       "      <td>7</td>\n",
       "      <td>3</td>\n",
       "      <td>3</td>\n",
       "      <td>139</td>\n",
       "      <td>65.0</td>\n",
       "      <td>48.933977</td>\n",
       "      <td>98280</td>\n",
       "      <td>-0.362414</td>\n",
       "      <td>-0.195187</td>\n",
       "      <td>26.9755</td>\n",
       "    </tr>\n",
       "    <tr>\n",
       "      <th>2</th>\n",
       "      <td>1005</td>\n",
       "      <td>Barbour, AL</td>\n",
       "      <td>0</td>\n",
       "      <td>2</td>\n",
       "      <td>0</td>\n",
       "      <td>0</td>\n",
       "      <td>14</td>\n",
       "      <td>0</td>\n",
       "      <td>1</td>\n",
       "      <td>0</td>\n",
       "      <td>0</td>\n",
       "      <td>1</td>\n",
       "      <td>0</td>\n",
       "      <td>1</td>\n",
       "      <td>19</td>\n",
       "      <td>60.0</td>\n",
       "      <td>49.573887</td>\n",
       "      <td>25417</td>\n",
       "      <td>-1.499349</td>\n",
       "      <td>-0.767512</td>\n",
       "      <td>34.5457</td>\n",
       "    </tr>\n",
       "    <tr>\n",
       "      <th>3</th>\n",
       "      <td>1007</td>\n",
       "      <td>Bibb, AL</td>\n",
       "      <td>0</td>\n",
       "      <td>0</td>\n",
       "      <td>0</td>\n",
       "      <td>0</td>\n",
       "      <td>14</td>\n",
       "      <td>0</td>\n",
       "      <td>1</td>\n",
       "      <td>0</td>\n",
       "      <td>0</td>\n",
       "      <td>0</td>\n",
       "      <td>1</td>\n",
       "      <td>0</td>\n",
       "      <td>16</td>\n",
       "      <td>67.0</td>\n",
       "      <td>43.673088</td>\n",
       "      <td>16576</td>\n",
       "      <td>-0.930472</td>\n",
       "      <td>-0.446631</td>\n",
       "      <td>21.2694</td>\n",
       "    </tr>\n",
       "    <tr>\n",
       "      <th>4</th>\n",
       "      <td>1009</td>\n",
       "      <td>Blount, AL</td>\n",
       "      <td>0</td>\n",
       "      <td>0</td>\n",
       "      <td>0</td>\n",
       "      <td>2</td>\n",
       "      <td>15</td>\n",
       "      <td>0</td>\n",
       "      <td>0</td>\n",
       "      <td>0</td>\n",
       "      <td>0</td>\n",
       "      <td>0</td>\n",
       "      <td>5</td>\n",
       "      <td>0</td>\n",
       "      <td>22</td>\n",
       "      <td>69.0</td>\n",
       "      <td>46.378201</td>\n",
       "      <td>39248</td>\n",
       "      <td>-1.304095</td>\n",
       "      <td>-0.656223</td>\n",
       "      <td>14.1055</td>\n",
       "    </tr>\n",
       "  </tbody>\n",
       "</table>\n",
       "</div>"
      ],
      "text/plain": [
       "   fips         area  bowl  civic  fit  golf  relig  sport  memspt  pol  prof  \\\n",
       "0  1001  Autauga, AL     0      7    1     0     21      0       1    0     0   \n",
       "1  1003  Baldwin, AL     2     29    4     1     80      0       9    1     0   \n",
       "2  1005  Barbour, AL     0      2    0     0     14      0       1    0     0   \n",
       "3  1007     Bibb, AL     0      0    0     0     14      0       1    0     0   \n",
       "4  1009   Blount, AL     0      0    0     2     15      0       0    0     0   \n",
       "\n",
       "   bus  labor  memnec  assn  respn      pvote    pop      sk_u        sk  \\\n",
       "0    2      5       0    37   65.0  48.337755  34222 -0.897834 -0.474257   \n",
       "1    7      3       3   139   65.0  48.933977  98280 -0.362414 -0.195187   \n",
       "2    1      0       1    19   60.0  49.573887  25417 -1.499349 -0.767512   \n",
       "3    0      1       0    16   67.0  43.673088  16576 -0.930472 -0.446631   \n",
       "4    0      5       0    22   69.0  46.378201  39248 -1.304095 -0.656223   \n",
       "\n",
       "      nccs  \n",
       "0  18.7550  \n",
       "1  26.9755  \n",
       "2  34.5457  \n",
       "3  21.2694  \n",
       "4  14.1055  "
      ]
     },
     "execution_count": 71,
     "metadata": {},
     "output_type": "execute_result"
    }
   ],
   "source": [
    "sc.head()"
   ]
  },
  {
   "cell_type": "markdown",
   "metadata": {},
   "source": [
    "### Check missing obs of respn and nccs and repalce them with zero"
   ]
  },
  {
   "cell_type": "code",
   "execution_count": 72,
   "metadata": {},
   "outputs": [
    {
     "data": {
      "text/plain": [
       "respn    2435\n",
       "dtype: int64"
      ]
     },
     "execution_count": 72,
     "metadata": {},
     "output_type": "execute_result"
    }
   ],
   "source": [
    "sc[['respn']].count() # many missing"
   ]
  },
  {
   "cell_type": "code",
   "execution_count": 73,
   "metadata": {},
   "outputs": [
    {
     "data": {
      "text/plain": [
       "nccs    3107\n",
       "dtype: int64"
      ]
     },
     "execution_count": 73,
     "metadata": {},
     "output_type": "execute_result"
    }
   ],
   "source": [
    "sc[['nccs']].count() # many missing"
   ]
  },
  {
   "cell_type": "code",
   "execution_count": 74,
   "metadata": {},
   "outputs": [],
   "source": [
    "sc['respn']= sc['respn'].replace(np.nan, 0) # valid only for 2435. missing for (3110-2435). This issue only for 1990.\n",
    "sc['nccs']= sc['nccs'].replace(np.nan, 0) # missing for about 10~20 obs. But it affects results significantly."
   ]
  },
  {
   "cell_type": "code",
   "execution_count": 75,
   "metadata": {},
   "outputs": [
    {
     "data": {
      "text/plain": [
       "nccs     3110\n",
       "respn    3110\n",
       "dtype: int64"
      ]
     },
     "execution_count": 75,
     "metadata": {},
     "output_type": "execute_result"
    }
   ],
   "source": [
    "sc[['nccs','respn']].count()"
   ]
  },
  {
   "cell_type": "markdown",
   "metadata": {},
   "source": [
    "### Calculate assn based on 10 common categories following Hasan et al. (2017), etc."
   ]
  },
  {
   "cell_type": "code",
   "execution_count": 76,
   "metadata": {},
   "outputs": [
    {
     "data": {
      "text/html": [
       "<div>\n",
       "<style scoped>\n",
       "    .dataframe tbody tr th:only-of-type {\n",
       "        vertical-align: middle;\n",
       "    }\n",
       "\n",
       "    .dataframe tbody tr th {\n",
       "        vertical-align: top;\n",
       "    }\n",
       "\n",
       "    .dataframe thead th {\n",
       "        text-align: right;\n",
       "    }\n",
       "</style>\n",
       "<table border=\"1\" class=\"dataframe\">\n",
       "  <thead>\n",
       "    <tr style=\"text-align: right;\">\n",
       "      <th></th>\n",
       "      <th>fips</th>\n",
       "      <th>area</th>\n",
       "      <th>assn</th>\n",
       "      <th>respn</th>\n",
       "      <th>pvote</th>\n",
       "      <th>sk_u</th>\n",
       "      <th>sk</th>\n",
       "      <th>nccs</th>\n",
       "    </tr>\n",
       "  </thead>\n",
       "  <tbody>\n",
       "    <tr>\n",
       "      <th>0</th>\n",
       "      <td>1001</td>\n",
       "      <td>Autauga, AL</td>\n",
       "      <td>1.051955</td>\n",
       "      <td>65.0</td>\n",
       "      <td>48.337755</td>\n",
       "      <td>-0.897834</td>\n",
       "      <td>-0.474257</td>\n",
       "      <td>18.7550</td>\n",
       "    </tr>\n",
       "    <tr>\n",
       "      <th>1</th>\n",
       "      <td>1003</td>\n",
       "      <td>Baldwin, AL</td>\n",
       "      <td>1.292226</td>\n",
       "      <td>65.0</td>\n",
       "      <td>48.933977</td>\n",
       "      <td>-0.362414</td>\n",
       "      <td>-0.195187</td>\n",
       "      <td>26.9755</td>\n",
       "    </tr>\n",
       "    <tr>\n",
       "      <th>2</th>\n",
       "      <td>1005</td>\n",
       "      <td>Barbour, AL</td>\n",
       "      <td>0.668844</td>\n",
       "      <td>60.0</td>\n",
       "      <td>49.573887</td>\n",
       "      <td>-1.499349</td>\n",
       "      <td>-0.767512</td>\n",
       "      <td>34.5457</td>\n",
       "    </tr>\n",
       "  </tbody>\n",
       "</table>\n",
       "</div>"
      ],
      "text/plain": [
       "   fips         area      assn  respn      pvote      sk_u        sk     nccs\n",
       "0  1001  Autauga, AL  1.051955   65.0  48.337755 -0.897834 -0.474257  18.7550\n",
       "1  1003  Baldwin, AL  1.292226   65.0  48.933977 -0.362414 -0.195187  26.9755\n",
       "2  1005  Barbour, AL  0.668844   60.0  49.573887 -1.499349 -0.767512  34.5457"
      ]
     },
     "execution_count": 76,
     "metadata": {},
     "output_type": "execute_result"
    }
   ],
   "source": [
    "sc['assn']= (sc['relig'] + sc['civic'] + sc['bus'] + sc['pol'] + sc['prof'] + sc['labor'] + sc['bowl'] + sc['fit'] + sc['golf'] + sc['sport']) / (sc['pop']/1000)\n",
    "\n",
    "sc.drop(columns=['bowl', 'civic', 'fit', 'golf', 'relig', 'sport', 'pol', 'prof', 'bus', 'labor'], inplace=True)\n",
    "sc.drop(columns=['memspt','memnec'], inplace=True)\n",
    "sc.drop(columns=['pop'],inplace=True)\n",
    "sc.head(3)"
   ]
  },
  {
   "cell_type": "code",
   "execution_count": 77,
   "metadata": {},
   "outputs": [
    {
     "data": {
      "text/plain": [
       "fips     3110\n",
       "area     3110\n",
       "assn     3110\n",
       "respn    3110\n",
       "pvote    3110\n",
       "sk_u     3110\n",
       "sk       3110\n",
       "nccs     3110\n",
       "dtype: int64"
      ]
     },
     "execution_count": 77,
     "metadata": {},
     "output_type": "execute_result"
    }
   ],
   "source": [
    "sc.count()"
   ]
  },
  {
   "cell_type": "markdown",
   "metadata": {},
   "source": [
    "- no missing obs"
   ]
  },
  {
   "cell_type": "markdown",
   "metadata": {},
   "source": [
    "### Scaling issues (to be consistent with other datasets)"
   ]
  },
  {
   "cell_type": "code",
   "execution_count": 78,
   "metadata": {},
   "outputs": [],
   "source": [
    "sc['respn']= sc['respn']/100\n",
    "sc['pvote']= sc['pvote']/100"
   ]
  },
  {
   "cell_type": "markdown",
   "metadata": {},
   "source": [
    "### Principal Component Analysis"
   ]
  },
  {
   "cell_type": "code",
   "execution_count": 79,
   "metadata": {},
   "outputs": [
    {
     "data": {
      "text/html": [
       "<div>\n",
       "<style scoped>\n",
       "    .dataframe tbody tr th:only-of-type {\n",
       "        vertical-align: middle;\n",
       "    }\n",
       "\n",
       "    .dataframe tbody tr th {\n",
       "        vertical-align: top;\n",
       "    }\n",
       "\n",
       "    .dataframe thead th {\n",
       "        text-align: right;\n",
       "    }\n",
       "</style>\n",
       "<table border=\"1\" class=\"dataframe\">\n",
       "  <thead>\n",
       "    <tr style=\"text-align: right;\">\n",
       "      <th></th>\n",
       "      <th>pc1</th>\n",
       "    </tr>\n",
       "  </thead>\n",
       "  <tbody>\n",
       "    <tr>\n",
       "      <th>0</th>\n",
       "      <td>-1.108387</td>\n",
       "    </tr>\n",
       "    <tr>\n",
       "      <th>1</th>\n",
       "      <td>-0.701351</td>\n",
       "    </tr>\n",
       "  </tbody>\n",
       "</table>\n",
       "</div>"
      ],
      "text/plain": [
       "        pc1\n",
       "0 -1.108387\n",
       "1 -0.701351"
      ]
     },
     "execution_count": 79,
     "metadata": {},
     "output_type": "execute_result"
    }
   ],
   "source": [
    "x = sc.loc[:, ['respn','pvote','assn','nccs']].values\n",
    "# Separating out the target\n",
    "y = sc.loc[:,['fips']].values\n",
    "# Standardizing the features\n",
    "x = StandardScaler().fit_transform(x)\n",
    "\n",
    "pca = PCA(n_components=1)\n",
    "principalComponents = pca.fit_transform(x)\n",
    "pca_df = pd.DataFrame(data = principalComponents\n",
    "             , columns = ['pc1'])\n",
    "pca_df.head(2)"
   ]
  },
  {
   "cell_type": "markdown",
   "metadata": {},
   "source": [
    "### Merge the first PCA component with Original SC set"
   ]
  },
  {
   "cell_type": "code",
   "execution_count": 80,
   "metadata": {},
   "outputs": [],
   "source": [
    "sc['pc1']=pca_df[['pc1']]"
   ]
  },
  {
   "cell_type": "code",
   "execution_count": 81,
   "metadata": {},
   "outputs": [
    {
     "data": {
      "text/html": [
       "<div>\n",
       "<style scoped>\n",
       "    .dataframe tbody tr th:only-of-type {\n",
       "        vertical-align: middle;\n",
       "    }\n",
       "\n",
       "    .dataframe tbody tr th {\n",
       "        vertical-align: top;\n",
       "    }\n",
       "\n",
       "    .dataframe thead th {\n",
       "        text-align: right;\n",
       "    }\n",
       "</style>\n",
       "<table border=\"1\" class=\"dataframe\">\n",
       "  <thead>\n",
       "    <tr style=\"text-align: right;\">\n",
       "      <th></th>\n",
       "      <th>fips</th>\n",
       "      <th>area</th>\n",
       "      <th>assn</th>\n",
       "      <th>respn</th>\n",
       "      <th>pvote</th>\n",
       "      <th>sk_u</th>\n",
       "      <th>sk</th>\n",
       "      <th>nccs</th>\n",
       "      <th>pc1</th>\n",
       "    </tr>\n",
       "  </thead>\n",
       "  <tbody>\n",
       "    <tr>\n",
       "      <th>0</th>\n",
       "      <td>1001</td>\n",
       "      <td>Autauga, AL</td>\n",
       "      <td>1.051955</td>\n",
       "      <td>0.65</td>\n",
       "      <td>0.483378</td>\n",
       "      <td>-0.897834</td>\n",
       "      <td>-0.474257</td>\n",
       "      <td>18.7550</td>\n",
       "      <td>-1.108387</td>\n",
       "    </tr>\n",
       "    <tr>\n",
       "      <th>1</th>\n",
       "      <td>1003</td>\n",
       "      <td>Baldwin, AL</td>\n",
       "      <td>1.292226</td>\n",
       "      <td>0.65</td>\n",
       "      <td>0.489340</td>\n",
       "      <td>-0.362414</td>\n",
       "      <td>-0.195187</td>\n",
       "      <td>26.9755</td>\n",
       "      <td>-0.701351</td>\n",
       "    </tr>\n",
       "    <tr>\n",
       "      <th>2</th>\n",
       "      <td>1005</td>\n",
       "      <td>Barbour, AL</td>\n",
       "      <td>0.668844</td>\n",
       "      <td>0.60</td>\n",
       "      <td>0.495739</td>\n",
       "      <td>-1.499349</td>\n",
       "      <td>-0.767512</td>\n",
       "      <td>34.5457</td>\n",
       "      <td>-0.971752</td>\n",
       "    </tr>\n",
       "    <tr>\n",
       "      <th>3</th>\n",
       "      <td>1007</td>\n",
       "      <td>Bibb, AL</td>\n",
       "      <td>0.904923</td>\n",
       "      <td>0.67</td>\n",
       "      <td>0.436731</td>\n",
       "      <td>-0.930472</td>\n",
       "      <td>-0.446631</td>\n",
       "      <td>21.2694</td>\n",
       "      <td>-1.438512</td>\n",
       "    </tr>\n",
       "    <tr>\n",
       "      <th>4</th>\n",
       "      <td>1009</td>\n",
       "      <td>Blount, AL</td>\n",
       "      <td>0.560538</td>\n",
       "      <td>0.69</td>\n",
       "      <td>0.463782</td>\n",
       "      <td>-1.304095</td>\n",
       "      <td>-0.656223</td>\n",
       "      <td>14.1055</td>\n",
       "      <td>-1.775053</td>\n",
       "    </tr>\n",
       "  </tbody>\n",
       "</table>\n",
       "</div>"
      ],
      "text/plain": [
       "   fips         area      assn  respn     pvote      sk_u        sk     nccs  \\\n",
       "0  1001  Autauga, AL  1.051955   0.65  0.483378 -0.897834 -0.474257  18.7550   \n",
       "1  1003  Baldwin, AL  1.292226   0.65  0.489340 -0.362414 -0.195187  26.9755   \n",
       "2  1005  Barbour, AL  0.668844   0.60  0.495739 -1.499349 -0.767512  34.5457   \n",
       "3  1007     Bibb, AL  0.904923   0.67  0.436731 -0.930472 -0.446631  21.2694   \n",
       "4  1009   Blount, AL  0.560538   0.69  0.463782 -1.304095 -0.656223  14.1055   \n",
       "\n",
       "        pc1  \n",
       "0 -1.108387  \n",
       "1 -0.701351  \n",
       "2 -0.971752  \n",
       "3 -1.438512  \n",
       "4 -1.775053  "
      ]
     },
     "execution_count": 81,
     "metadata": {},
     "output_type": "execute_result"
    }
   ],
   "source": [
    "sc.head()"
   ]
  },
  {
   "cell_type": "markdown",
   "metadata": {},
   "source": [
    "##### Check the correlation with sk: Hasan et al. (2017), in footnote 5, show that their corr is 0.93."
   ]
  },
  {
   "cell_type": "code",
   "execution_count": 82,
   "metadata": {},
   "outputs": [
    {
     "data": {
      "text/plain": [
       "0.7887045494506105"
      ]
     },
     "execution_count": 82,
     "metadata": {},
     "output_type": "execute_result"
    }
   ],
   "source": [
    "sc['sk'].corr(sc['pc1'], method='pearson')"
   ]
  },
  {
   "cell_type": "code",
   "execution_count": 83,
   "metadata": {},
   "outputs": [
    {
     "data": {
      "text/plain": [
       "(3110, 9)"
      ]
     },
     "execution_count": 83,
     "metadata": {},
     "output_type": "execute_result"
    }
   ],
   "source": [
    "sc.shape"
   ]
  },
  {
   "cell_type": "code",
   "execution_count": 84,
   "metadata": {},
   "outputs": [
    {
     "data": {
      "text/plain": [
       "pc1    3110\n",
       "dtype: int64"
      ]
     },
     "execution_count": 84,
     "metadata": {},
     "output_type": "execute_result"
    }
   ],
   "source": [
    "sc[['pc1']].count()"
   ]
  },
  {
   "cell_type": "code",
   "execution_count": 85,
   "metadata": {},
   "outputs": [],
   "source": [
    "sc['year']=1990\n",
    "sc.to_csv(\"output\\\\sc90.csv\")"
   ]
  }
 ],
 "metadata": {
  "kernelspec": {
   "display_name": "Python 3",
   "language": "python",
   "name": "python3"
  },
  "language_info": {
   "codemirror_mode": {
    "name": "ipython",
    "version": 3
   },
   "file_extension": ".py",
   "mimetype": "text/x-python",
   "name": "python",
   "nbconvert_exporter": "python",
   "pygments_lexer": "ipython3",
   "version": "3.7.4"
  }
 },
 "nbformat": 4,
 "nbformat_minor": 4
}
