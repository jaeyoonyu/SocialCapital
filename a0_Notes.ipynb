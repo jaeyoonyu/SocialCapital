{
 "cells": [
  {
   "cell_type": "markdown",
   "metadata": {},
   "source": [
    "### Social Capital Variables"
   ]
  },
  {
   "cell_type": "code",
   "execution_count": 1,
   "metadata": {},
   "outputs": [],
   "source": [
    "# three sources downloaded from: https://aese.psu.edu/nercrd/community/social-capital-resources\n",
    "## Source 1: 1990, 1997, 2005              => Used in this code: 1990\n",
    "## Source 2:       1997, 2005, 2009        => Used in this code: 1997, 2005, 2009\n",
    "## Source 3:                        2014   => Used in this code: 2014"
   ]
  },
  {
   "cell_type": "code",
   "execution_count": 2,
   "metadata": {},
   "outputs": [],
   "source": [
    "# Key variables: pvote, respn, nccs, assn.\n",
    "## pvote: no issue.\n",
    "## respn: no issue.\n",
    "## nccs: underestimated in 1990. => nccs in 1990 should be corrected with time-trend method.\n",
    "## assn: 12 orgs in 1990 and 1997 while 10 orgs in later years. The common 10 orgs should be considered. => assn in 1990 and 1997 should be corrected."
   ]
  },
  {
   "cell_type": "code",
   "execution_count": 3,
   "metadata": {},
   "outputs": [],
   "source": [
    "# Data point in all three sources\n",
    "## assn in 90 97 05 09 14\n",
    "## nccs in 90 97 05 09 14\n",
    "## pvote in 88 92 96 04 08 12 (i.e., every 4 years from 1988)\n",
    "## respn in 90 00 05 10 (i.e., every 5 years from 1990) \n",
    "\n",
    "# But, the years are not considered. Social capital variables are measured as if they are measured in 1990, 1997, 2005, 2009, and 2014."
   ]
  },
  {
   "cell_type": "code",
   "execution_count": 4,
   "metadata": {},
   "outputs": [],
   "source": [
    "# Notes\n",
    "## assn is not deflated in the oldest version.\n",
    "## The description of assn is different across versions.\n",
    "## Deflation across different datasets should be considered carefully."
   ]
  },
  {
   "cell_type": "code",
   "execution_count": 5,
   "metadata": {},
   "outputs": [],
   "source": [
    "# References\n",
    "## Hasan, I., Chun Keung Hoi, Q. Wu, and H. Zhang. 2017. Social Capital and Debt Contracting: Evidence from Bank Loans and Public Bonds. Journal of Financial and Quantitative Analysis 52 (3): 1017–1047.\n",
    "## Hasan, I., Chun-Keung (stan) Hoi, Q. Wu, and H. Zhang. 2017. Does Social Capital Matter in Corporate Decisions? Evidence from Corporate Tax Avoidance. Journal of Accounting Research 55 (3): 629–668.\n",
    "## Hasan, M. M., and A. Habib. 2019. Social capital and trade credit. International Review of Financial Analysis 61: 158–174."
   ]
  }
 ],
 "metadata": {
  "kernelspec": {
   "display_name": "Python 3",
   "language": "python",
   "name": "python3"
  },
  "language_info": {
   "codemirror_mode": {
    "name": "ipython",
    "version": 3
   },
   "file_extension": ".py",
   "mimetype": "text/x-python",
   "name": "python",
   "nbconvert_exporter": "python",
   "pygments_lexer": "ipython3",
   "version": "3.7.4"
  }
 },
 "nbformat": 4,
 "nbformat_minor": 4
}
