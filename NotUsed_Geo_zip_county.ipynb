{
 "cells": [
  {
   "cell_type": "code",
   "execution_count": null,
   "metadata": {},
   "outputs": [],
   "source": [
    "import pandas as pd\n",
    "import numpy as np"
   ]
  },
  {
   "cell_type": "code",
   "execution_count": 68,
   "metadata": {},
   "outputs": [
    {
     "data": {
      "text/html": [
       "<div>\n",
       "<style scoped>\n",
       "    .dataframe tbody tr th:only-of-type {\n",
       "        vertical-align: middle;\n",
       "    }\n",
       "\n",
       "    .dataframe tbody tr th {\n",
       "        vertical-align: top;\n",
       "    }\n",
       "\n",
       "    .dataframe thead th {\n",
       "        text-align: right;\n",
       "    }\n",
       "</style>\n",
       "<table border=\"1\" class=\"dataframe\">\n",
       "  <thead>\n",
       "    <tr style=\"text-align: right;\">\n",
       "      <th></th>\n",
       "      <th>0</th>\n",
       "      <th>1</th>\n",
       "      <th>2</th>\n",
       "      <th>3</th>\n",
       "      <th>4</th>\n",
       "      <th>5</th>\n",
       "      <th>6</th>\n",
       "      <th>7</th>\n",
       "      <th>8</th>\n",
       "      <th>9</th>\n",
       "    </tr>\n",
       "  </thead>\n",
       "  <tbody>\n",
       "    <tr>\n",
       "      <th>0</th>\n",
       "      <td>-1.347041</td>\n",
       "      <td>0.736383</td>\n",
       "      <td>0.792069</td>\n",
       "      <td>0.645198</td>\n",
       "      <td>0.425624</td>\n",
       "      <td>-0.809485</td>\n",
       "      <td>0.130500</td>\n",
       "      <td>-0.596803</td>\n",
       "      <td>-0.181227</td>\n",
       "      <td>0.247208</td>\n",
       "    </tr>\n",
       "    <tr>\n",
       "      <th>1</th>\n",
       "      <td>0.209874</td>\n",
       "      <td>0.103423</td>\n",
       "      <td>-1.782694</td>\n",
       "      <td>0.395116</td>\n",
       "      <td>-0.230549</td>\n",
       "      <td>-0.947562</td>\n",
       "      <td>-0.152594</td>\n",
       "      <td>0.294633</td>\n",
       "      <td>0.480878</td>\n",
       "      <td>-1.625868</td>\n",
       "    </tr>\n",
       "    <tr>\n",
       "      <th>2</th>\n",
       "      <td>0.920726</td>\n",
       "      <td>0.370313</td>\n",
       "      <td>-1.030429</td>\n",
       "      <td>0.250462</td>\n",
       "      <td>-0.630214</td>\n",
       "      <td>1.191094</td>\n",
       "      <td>-0.478618</td>\n",
       "      <td>1.092699</td>\n",
       "      <td>2.239309</td>\n",
       "      <td>0.391261</td>\n",
       "    </tr>\n",
       "    <tr>\n",
       "      <th>3</th>\n",
       "      <td>0.045089</td>\n",
       "      <td>-1.207107</td>\n",
       "      <td>-2.314450</td>\n",
       "      <td>0.850476</td>\n",
       "      <td>0.414173</td>\n",
       "      <td>0.358862</td>\n",
       "      <td>0.037758</td>\n",
       "      <td>0.104501</td>\n",
       "      <td>0.003854</td>\n",
       "      <td>0.628819</td>\n",
       "    </tr>\n",
       "    <tr>\n",
       "      <th>4</th>\n",
       "      <td>0.244633</td>\n",
       "      <td>-0.895323</td>\n",
       "      <td>0.497189</td>\n",
       "      <td>-0.320762</td>\n",
       "      <td>0.661232</td>\n",
       "      <td>3.070878</td>\n",
       "      <td>0.339180</td>\n",
       "      <td>-0.587946</td>\n",
       "      <td>0.977128</td>\n",
       "      <td>0.105103</td>\n",
       "    </tr>\n",
       "  </tbody>\n",
       "</table>\n",
       "</div>"
      ],
      "text/plain": [
       "          0         1         2         3         4         5         6  \\\n",
       "0 -1.347041  0.736383  0.792069  0.645198  0.425624 -0.809485  0.130500   \n",
       "1  0.209874  0.103423 -1.782694  0.395116 -0.230549 -0.947562 -0.152594   \n",
       "2  0.920726  0.370313 -1.030429  0.250462 -0.630214  1.191094 -0.478618   \n",
       "3  0.045089 -1.207107 -2.314450  0.850476  0.414173  0.358862  0.037758   \n",
       "4  0.244633 -0.895323  0.497189 -0.320762  0.661232  3.070878  0.339180   \n",
       "\n",
       "          7         8         9  \n",
       "0 -0.596803 -0.181227  0.247208  \n",
       "1  0.294633  0.480878 -1.625868  \n",
       "2  1.092699  2.239309  0.391261  \n",
       "3  0.104501  0.003854  0.628819  \n",
       "4 -0.587946  0.977128  0.105103  "
      ]
     },
     "execution_count": 68,
     "metadata": {},
     "output_type": "execute_result"
    }
   ],
   "source": [
    "df=pd.DataFrame(data=np.random.normal(0,1,(20,10)))\n",
    "pca=PCA(n_components=1)\n",
    "pca.fit(df)\n",
    "df.head(5)"
   ]
  },
  {
   "cell_type": "code",
   "execution_count": 69,
   "metadata": {},
   "outputs": [
    {
     "data": {
      "text/plain": [
       "array([[-0.30187821,  0.43528988, -0.34666145,  0.05523211, -0.44496577,\n",
       "        -0.58834798, -0.08000244, -0.08726195, -0.1924313 , -0.03122153]])"
      ]
     },
     "execution_count": 69,
     "metadata": {},
     "output_type": "execute_result"
    }
   ],
   "source": [
    "pca.components_"
   ]
  },
  {
   "cell_type": "markdown",
   "metadata": {},
   "source": [
    "### Import zip-county matching set"
   ]
  },
  {
   "cell_type": "code",
   "execution_count": 4,
   "metadata": {},
   "outputs": [
    {
     "data": {
      "text/html": [
       "<div>\n",
       "<style scoped>\n",
       "    .dataframe tbody tr th:only-of-type {\n",
       "        vertical-align: middle;\n",
       "    }\n",
       "\n",
       "    .dataframe tbody tr th {\n",
       "        vertical-align: top;\n",
       "    }\n",
       "\n",
       "    .dataframe thead th {\n",
       "        text-align: right;\n",
       "    }\n",
       "</style>\n",
       "<table border=\"1\" class=\"dataframe\">\n",
       "  <thead>\n",
       "    <tr style=\"text-align: right;\">\n",
       "      <th></th>\n",
       "      <th>zip</th>\n",
       "      <th>county</th>\n",
       "    </tr>\n",
       "  </thead>\n",
       "  <tbody>\n",
       "    <tr>\n",
       "      <th>0</th>\n",
       "      <td>501</td>\n",
       "      <td>36103</td>\n",
       "    </tr>\n",
       "    <tr>\n",
       "      <th>1</th>\n",
       "      <td>601</td>\n",
       "      <td>72001</td>\n",
       "    </tr>\n",
       "  </tbody>\n",
       "</table>\n",
       "</div>"
      ],
      "text/plain": [
       "   zip  county\n",
       "0  501   36103\n",
       "1  601   72001"
      ]
     },
     "execution_count": 4,
     "metadata": {},
     "output_type": "execute_result"
    }
   ],
   "source": [
    "zip_county= pd.read_excel(r'Input\\\\ZIP_COUNTY_122020.xlsx')[['ZIP','COUNTY']]\n",
    "zip_county.columns= zip_county.columns.str.strip().str.lower()\n",
    "zip_county.head(2)"
   ]
  },
  {
   "cell_type": "markdown",
   "metadata": {},
   "source": [
    "### Geo package"
   ]
  },
  {
   "cell_type": "code",
   "execution_count": 19,
   "metadata": {},
   "outputs": [],
   "source": [
    "nomi=geo.Nominatim(\"us\")"
   ]
  },
  {
   "cell_type": "code",
   "execution_count": 20,
   "metadata": {},
   "outputs": [
    {
     "data": {
      "text/plain": [
       "postal_code               92660\n",
       "country_code                 US\n",
       "place_name        Newport Beach\n",
       "state_name           California\n",
       "state_code                   CA\n",
       "county_name              Orange\n",
       "county_code                59.0\n",
       "community_name              NaN\n",
       "community_code              NaN\n",
       "latitude                33.6295\n",
       "longitude             -117.8684\n",
       "accuracy                    4.0\n",
       "Name: 0, dtype: object"
      ]
     },
     "execution_count": 20,
     "metadata": {},
     "output_type": "execute_result"
    }
   ],
   "source": [
    "nomi.query_postal_code(\"92660\")"
   ]
  }
 ],
 "metadata": {
  "kernelspec": {
   "display_name": "Python 3",
   "language": "python",
   "name": "python3"
  },
  "language_info": {
   "codemirror_mode": {
    "name": "ipython",
    "version": 3
   },
   "file_extension": ".py",
   "mimetype": "text/x-python",
   "name": "python",
   "nbconvert_exporter": "python",
   "pygments_lexer": "ipython3",
   "version": "3.7.4"
  }
 },
 "nbformat": 4,
 "nbformat_minor": 4
}
